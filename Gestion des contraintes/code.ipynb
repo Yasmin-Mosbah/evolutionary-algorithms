{
 "cells": [
  {
   "cell_type": "markdown",
   "metadata": {
    "id": "plhntDcQhu0f"
   },
   "source": [
    "**Travaux dirigés No 5: régression symbolique**"
   ]
  },
  {
   "cell_type": "code",
   "execution_count": 1,
   "metadata": {
    "id": "BMHzHnpef7Qa"
   },
   "outputs": [
    {
     "name": "stdout",
     "output_type": "stream",
     "text": [
      "Requirement already satisfied: deap in /home/deptinfo/.local/lib/python3.8/site-packages (1.3.1)\n",
      "Requirement already satisfied: numpy in /home/deptinfo/.local/lib/python3.8/site-packages (from deap) (1.18.5)\n"
     ]
    }
   ],
   "source": [
    "## Installation du FrameWork DEAP\n",
    "!pip3 install deap"
   ]
  },
  {
   "cell_type": "code",
   "execution_count": 2,
   "metadata": {},
   "outputs": [],
   "source": [
    "#Import d'outils pythons\n",
    "import random\n",
    "import operator\n",
    "import math\n",
    "import numpy\n",
    "import pandas as pd\n",
    "##Import les outils deap\n",
    "from deap import base\n",
    "from deap import creator\n",
    "from deap import tools\n",
    "from deap import gp\n",
    "from deap import algorithms\n",
    "from sklearn.metrics import mean_squared_error"
   ]
  },
  {
   "cell_type": "code",
   "execution_count": 3,
   "metadata": {},
   "outputs": [],
   "source": [
    "##Ajout des protecteurs sur les operations\n",
    "def pro_div(*args):\n",
    "    try:\n",
    "        res = operator.truediv(*args)\n",
    "        if not math.isnan(res) and not math.isinf(res):\n",
    "            return res\n",
    "    except ZeroDivisionError:\n",
    "        pass\n",
    "    return 1\n",
    "\n",
    "\n",
    "def pr_log(arg):\n",
    "    try : \n",
    "        res = math.log(arg)\n",
    "        if not math.isnan(res) and not math.isinf(res):\n",
    "            return res\n",
    "    except ValueError :\n",
    "        pass\n",
    "    return 1"
   ]
  },
  {
   "cell_type": "code",
   "execution_count": 4,
   "metadata": {},
   "outputs": [],
   "source": [
    "##Ajout des opérations  arithmétiques\n",
    "pset = gp.PrimitiveSet(\"MAIN\", 2)\n",
    "pset.addPrimitive(operator.add, 2)\n",
    "pset.addPrimitive(operator.sub, 2)\n",
    "pset.addPrimitive(operator.mul, 2)\n",
    "pset.addPrimitive(pro_div, 2)\n",
    "pset.addPrimitive(pr_log, 1)\n",
    "pset.addPrimitive(operator.neg, 1)"
   ]
  },
  {
   "cell_type": "code",
   "execution_count": 5,
   "metadata": {},
   "outputs": [],
   "source": [
    "#Ajout des opérations trigonométriques\n",
    "pset.addPrimitive(math.cos, 1)\n",
    "pset.addPrimitive(math.sin, 1)"
   ]
  },
  {
   "cell_type": "code",
   "execution_count": 6,
   "metadata": {},
   "outputs": [],
   "source": [
    "##Ajout de constante aleatoire ephemère\n",
    "pset.addEphemeralConstant(\"rand101\", lambda: random.randint(-1,1))\n",
    "#Rename les arguments genérés par les opérateurs\n",
    "pset.renameArguments(ARG0='x')"
   ]
  },
  {
   "cell_type": "code",
   "execution_count": 7,
   "metadata": {},
   "outputs": [],
   "source": [
    "#Crée l'objet de fitness\n",
    "creator.create(\"FitnessMin\", base.Fitness, weights=(-1.0,))\n",
    "#Crée l'objet individu en se basant sur un arbre \n",
    "creator.create(\"Individual\", gp.PrimitiveTree, fitness=creator.FitnessMin)"
   ]
  },
  {
   "cell_type": "code",
   "execution_count": 8,
   "metadata": {},
   "outputs": [],
   "source": [
    "#Création de notre Toolbox\n",
    "toolbox = base.Toolbox()\n",
    "#outils de creation d'un individu et d'une population\n",
    "toolbox.register(\"expr\", gp.genHalfAndHalf, pset=pset, min_=1, max_=2)\n",
    "toolbox.register(\"individual\", tools.initIterate, creator.Individual, toolbox.expr)\n",
    "toolbox.register(\"population\", tools.initRepeat, list, toolbox.individual)\n",
    "toolbox.register(\"compile\", gp.compile, pset=pset)"
   ]
  },
  {
   "cell_type": "code",
   "execution_count": 9,
   "metadata": {},
   "outputs": [],
   "source": [
    "# En statistiques, l’erreur quadratique moyenne  est synonyme a Mean Squared Error (MSE) en\n",
    "# Anglais.\n",
    "# Cette fonction existe dans scki kit learn\n",
    "# --> https://scikit-learn.org/stable/modules/generated/sklearn.metrics.mean_squared_error.html\n",
    "toolbox.register(\"mse_opti\", lambda ind, predy, ybool : mean_squared_error(ybool, predy))"
   ]
  },
  {
   "cell_type": "code",
   "execution_count": 10,
   "metadata": {},
   "outputs": [],
   "source": [
    "## fct d'evaluation\n",
    "def evalSymbReg(individual, xpoints,ybool):\n",
    "    func = toolbox.compile(expr=individual)\n",
    "    predy = [func(x1,x2) for x1, x2 in xpoints]\n",
    "    res = toolbox.mse_opti(individual, ybool, predy)\n",
    "    return (res,)"
   ]
  },
  {
   "cell_type": "code",
   "execution_count": 11,
   "metadata": {},
   "outputs": [],
   "source": [
    "toolbox.register(\"select\", tools.selTournament, tournsize=3)\n",
    "toolbox.register(\"mate\", gp.cxOnePoint)\n",
    "toolbox.register(\"expr_mut\", gp.genFull, min_=0, max_=2)\n",
    "toolbox.register(\"mutate\", gp.mutUniform, expr=toolbox.expr_mut, pset=pset)"
   ]
  },
  {
   "cell_type": "code",
   "execution_count": 12,
   "metadata": {},
   "outputs": [],
   "source": [
    "def main(toolbox):\n",
    "    pop = toolbox.population(n=100)\n",
    "    hof = tools.HallOfFame(1)\n",
    "    \n",
    "    stats_fit = tools.Statistics(lambda ind: ind.fitness.values)\n",
    "    stats_size = tools.Statistics(len)\n",
    "    mstats = tools.MultiStatistics(fitness=stats_fit, size=stats_size)\n",
    "    mstats.register(\"avg\", numpy.mean)\n",
    "    mstats.register(\"std\", numpy.std)\n",
    "    mstats.register(\"min\", numpy.min)\n",
    "    mstats.register(\"max\", numpy.max)\n",
    "\n",
    "    pop, log = algorithms.eaSimple(pop, toolbox, 0.5, 0.1, 80, stats=mstats,\n",
    "                                   halloffame=hof, verbose=True)\n",
    "    # print log\n",
    "    return log, hof"
   ]
  },
  {
   "cell_type": "code",
   "execution_count": 13,
   "metadata": {},
   "outputs": [
    {
     "name": "stdout",
     "output_type": "stream",
     "text": [
      "    x1   x2    y\n",
      "0  1.0  0.0  1.0\n",
      "1  0.0  1.0  1.0\n",
      "2  0.0  0.0  0.0\n",
      "3  1.0  1.0  2.0\n",
      "4  1.0  2.0  3.0\n",
      "5  2.0  1.0  3.0\n"
     ]
    }
   ],
   "source": [
    "#Importation du dataset de l'exemple dans la consigne\n",
    "df =  pd.read_csv(\"dataset.tsv\", sep=\"\\t\")\n",
    "#Affichage du dataset\n",
    "print(df)"
   ]
  },
  {
   "cell_type": "code",
   "execution_count": 16,
   "metadata": {},
   "outputs": [],
   "source": [
    "vl = list(zip(df[\"x2\"],df[\"y\"]))\n",
    "toolbox.register(\"evaluate\", evalSymbReg, xpoints = vl, ybool = df[['y']])"
   ]
  },
  {
   "cell_type": "code",
   "execution_count": 17,
   "metadata": {},
   "outputs": [
    {
     "name": "stdout",
     "output_type": "stream",
     "text": [
      "   \t      \t                    fitness                    \t                      size                     \n",
      "   \t      \t-----------------------------------------------\t-----------------------------------------------\n",
      "gen\tnevals\tavg    \tgen\tmax    \tmin\tnevals\tstd    \tavg \tgen\tmax\tmin\tnevals\tstd    \n",
      "0  \t100   \t5.82953\t0  \t58.6667\t0  \t100   \t9.50751\t3.38\t0  \t6  \t2  \t100   \t1.29445\n",
      "1  \t67    \t2.50922\t1  \t23     \t0  \t67    \t3.09581\t3.41\t1  \t8  \t1  \t67    \t1.32737\n",
      "2  \t49    \t1.83162\t2  \t10.3333\t0  \t49    \t2.18505\t3.32\t2  \t8  \t1  \t49    \t1.08517\n",
      "3  \t57    \t1.74789\t3  \t16     \t0  \t57    \t2.71331\t3.21\t3  \t7  \t1  \t57    \t1.00295\n",
      "4  \t55    \t1.87543\t4  \t55.3333\t0  \t55    \t5.77725\t3.04\t4  \t6  \t1  \t55    \t0.82365\n",
      "5  \t50    \t1.34708\t5  \t16     \t0  \t50    \t2.78139\t2.89\t5  \t6  \t1  \t50    \t1.10359\n",
      "6  \t47    \t1.29549\t6  \t32.3333\t0  \t47    \t3.97447\t2.55\t6  \t7  \t1  \t47    \t1.29132\n",
      "7  \t61    \t0.721457\t7  \t16     \t0  \t61    \t2.10571\t2.16\t7  \t8  \t1  \t61    \t1.41223\n",
      "8  \t59    \t0.374935\t8  \t8.33333\t0  \t59    \t1.25992\t1.85\t8  \t7  \t1  \t59    \t1.252  \n",
      "9  \t40    \t0.437915\t9  \t8.33333\t0  \t40    \t1.36589\t1.8 \t9  \t6  \t1  \t40    \t1.17473\n",
      "10 \t55    \t0.346291\t10 \t9.16667\t0  \t55    \t1.23124\t1.65\t10 \t5  \t1  \t55    \t1.02347\n",
      "11 \t58    \t0.349377\t11 \t9.16667\t0  \t58    \t1.23522\t1.85\t11 \t7  \t1  \t58    \t1.16082\n",
      "12 \t56    \t0.160207\t12 \t4      \t0  \t56    \t0.707522\t1.65\t12 \t6  \t1  \t56    \t1.09886\n",
      "13 \t58    \t1.16481 \t13 \t55.3333\t0  \t58    \t5.76911 \t1.66\t13 \t6  \t1  \t58    \t1.13331\n",
      "14 \t57    \t0.482536\t14 \t16.6667\t0  \t57    \t1.95369 \t1.67\t14 \t6  \t1  \t57    \t1.14939\n",
      "15 \t57    \t0.3742  \t15 \t15.1294\t0  \t57    \t1.74013 \t1.62\t15 \t6  \t1  \t57    \t1.147  \n",
      "16 \t66    \t0.537662\t16 \t8.33333\t0  \t66    \t1.77032 \t1.67\t16 \t5  \t1  \t66    \t1.11405\n",
      "17 \t58    \t0.690839\t17 \t23     \t0  \t58    \t3.19828 \t2.11\t17 \t8  \t1  \t58    \t1.52902\n",
      "18 \t60    \t0.268247\t18 \t9.16667\t0  \t60    \t1.16551 \t1.91\t18 \t7  \t1  \t60    \t1.39352\n",
      "19 \t48    \t0.858216\t19 \t16     \t0  \t48    \t3.01132 \t2.03\t19 \t7  \t1  \t48    \t1.47956\n",
      "20 \t61    \t0.968092\t20 \t16     \t0  \t61    \t3.29211 \t2   \t20 \t6  \t1  \t61    \t1.43527\n",
      "21 \t58    \t1.45391 \t21 \t104.333\t0  \t58    \t10.5135 \t1.92\t21 \t6  \t1  \t58    \t1.3688 \n",
      "22 \t50    \t0.224569\t22 \t4.375  \t0  \t50    \t0.79735 \t1.93\t22 \t7  \t1  \t50    \t1.30579\n",
      "23 \t58    \t0.974517\t23 \t55.3333\t0  \t58    \t5.65577 \t1.93\t23 \t5  \t1  \t58    \t1.23495\n",
      "24 \t52    \t0.373641\t24 \t9.16667\t0  \t52    \t1.53144 \t1.88\t24 \t6  \t1  \t52    \t1.31362\n",
      "25 \t51    \t1.50994 \t25 \t104.333\t0  \t51    \t10.6578 \t1.76\t25 \t6  \t1  \t51    \t1.24996\n",
      "26 \t51    \t2.34364 \t26 \t198    \t0  \t51    \t19.7445 \t1.76\t26 \t7  \t1  \t51    \t1.30476\n",
      "27 \t52    \t0.772262\t27 \t25.1667\t0  \t52    \t3.25539 \t1.67\t27 \t7  \t1  \t52    \t1.217  \n",
      "28 \t46    \t0.222329\t28 \t8.33333\t0  \t46    \t1.07754 \t1.54\t28 \t4  \t1  \t46    \t0.899111\n",
      "29 \t58    \t0.164009\t29 \t4      \t0  \t58    \t0.650866\t1.56\t29 \t4  \t1  \t58    \t0.983056\n",
      "30 \t53    \t0.426667\t30 \t12.6667\t0  \t53    \t1.74918 \t1.63\t30 \t7  \t1  \t53    \t1.09229 \n",
      "31 \t56    \t1.02586 \t31 \t36     \t0  \t56    \t4.50699 \t1.59\t31 \t9  \t1  \t56    \t1.30457 \n",
      "32 \t58    \t0.501109\t32 \t9.16667\t0  \t58    \t1.61325 \t1.58\t32 \t5  \t1  \t58    \t0.981631\n",
      "33 \t64    \t0.714142\t33 \t23.6667\t0  \t64    \t3.07021 \t1.64\t33 \t9  \t1  \t64    \t1.26111 \n",
      "34 \t64    \t0.340256\t34 \t9.16667\t0  \t64    \t1.27077 \t1.39\t34 \t4  \t1  \t64    \t0.823347\n",
      "35 \t57    \t0.38138 \t35 \t12.632 \t0  \t57    \t1.68821 \t1.36\t35 \t6  \t1  \t57    \t0.94361 \n",
      "36 \t47    \t0.250417\t36 \t8.33333\t0  \t47    \t1.08779 \t1.37\t36 \t3  \t1  \t47    \t0.77013 \n",
      "37 \t53    \t0.488545\t37 \t16     \t0  \t53    \t2.01057 \t1.35\t37 \t6  \t1  \t53    \t0.942072\n",
      "38 \t56    \t0.251667\t38 \t16     \t0  \t56    \t1.65084 \t1.28\t38 \t7  \t1  \t56    \t0.837616\n",
      "39 \t47    \t0.201809\t39 \t4      \t0  \t47    \t0.728391\t1.3 \t39 \t4  \t1  \t47    \t0.74162 \n",
      "40 \t61    \t0.568984\t40 \t15.1667\t0  \t61    \t2.25264 \t1.33\t40 \t7  \t1  \t61    \t0.883799\n",
      "41 \t64    \t0.507968\t41 \t16     \t0  \t64    \t1.97739 \t1.41\t41 \t6  \t1  \t64    \t1.09631 \n",
      "42 \t61    \t0.30269 \t42 \t8.33333\t0  \t61    \t1.24753 \t1.16\t42 \t6  \t1  \t61    \t0.643739\n",
      "43 \t59    \t0.488828\t43 \t12.6667\t0  \t59    \t1.92072 \t1.34\t43 \t6  \t1  \t59    \t0.961457\n",
      "44 \t59    \t0.367836\t44 \t9.16667\t0  \t59    \t1.49415 \t1.22\t44 \t7  \t1  \t59    \t0.794733\n",
      "45 \t62    \t0.46054 \t45 \t9.16667\t0  \t62    \t1.58775 \t1.35\t45 \t6  \t1  \t62    \t1.01366 \n",
      "46 \t52    \t0.38518 \t46 \t16     \t0  \t52    \t1.93489 \t1.13\t46 \t3  \t1  \t52    \t0.461628\n",
      "47 \t48    \t0.533561\t47 \t9.16667\t0  \t48    \t1.75823 \t1.28\t47 \t6  \t1  \t48    \t0.872697\n",
      "48 \t54    \t0.190562\t48 \t7.51298\t0  \t54    \t0.908094\t1.19\t48 \t6  \t1  \t54    \t0.744245\n",
      "49 \t68    \t0.487016\t49 \t9.16667\t0  \t68    \t1.58669 \t1.29\t49 \t6  \t1  \t68    \t0.951788\n",
      "50 \t55    \t0.145833\t50 \t4.16667\t0  \t55    \t0.600343\t1.18\t50 \t7  \t1  \t55    \t0.898666\n",
      "51 \t61    \t0.164102\t51 \t4      \t0  \t61    \t0.709647\t1.18\t51 \t7  \t1  \t61    \t0.93145 \n",
      "52 \t67    \t0.546556\t52 \t16     \t0  \t67    \t2.17419 \t1.14\t52 \t6  \t1  \t67    \t0.693109\n",
      "53 \t62    \t0.377275\t53 \t8.33333\t0  \t62    \t1.25965 \t1.31\t53 \t7  \t1  \t62    \t1.16357 \n",
      "54 \t40    \t0.235833\t54 \t16     \t0  \t40    \t1.69771 \t1.08\t54 \t6  \t1  \t40    \t0.541849\n",
      "55 \t53    \t0.276686\t55 \t17.4476\t0  \t53    \t1.81159 \t1.1 \t55 \t6  \t1  \t53    \t0.574456\n",
      "56 \t45    \t0.368436\t56 \t16     \t0  \t45    \t1.79857 \t1.14\t56 \t6  \t1  \t45    \t0.616766\n",
      "57 \t46    \t0.645546\t57 \t14.6667\t0  \t46    \t2.30599 \t1.18\t57 \t6  \t1  \t46    \t0.683813\n",
      "58 \t61    \t0.36952 \t58 \t8.33333\t0  \t61    \t1.37156 \t1.09\t58 \t6  \t1  \t61    \t0.530943\n",
      "59 \t56    \t0.281327\t59 \t6.51675\t0  \t56    \t1.03594 \t1.24\t59 \t6  \t1  \t56    \t0.788923\n",
      "60 \t46    \t0.320562\t60 \t7.51298\t0  \t46    \t1.15659 \t1.21\t60 \t5  \t1  \t46    \t0.682569\n",
      "61 \t61    \t0.42172 \t61 \t9.16667\t0  \t61    \t1.40143 \t1.4 \t61 \t6  \t1  \t61    \t1.00995 \n",
      "62 \t61    \t0.251921\t62 \t8.33333\t0  \t61    \t1.1866  \t1.13\t62 \t6  \t1  \t61    \t0.610819\n",
      "63 \t54    \t0.281279\t63 \t7.08408\t0  \t54    \t1.21016 \t1.14\t63 \t4  \t1  \t54    \t0.529528\n",
      "64 \t49    \t0.121305\t64 \t3.83333\t0  \t49    \t0.500046\t1.1 \t64 \t6  \t1  \t49    \t0.608276\n",
      "65 \t61    \t0.193523\t65 \t6.75708\t0  \t61    \t0.874944\t1.22\t65 \t7  \t1  \t61    \t0.985698\n",
      "66 \t66    \t0.303778\t66 \t16     \t0  \t66    \t1.69518 \t1.12\t66 \t7  \t1  \t66    \t0.65238 \n",
      "67 \t51    \t0.613694\t67 \t10.1182\t0  \t51    \t2.05541 \t1.22\t67 \t7  \t1  \t51    \t0.843564\n",
      "68 \t46    \t0.218255\t68 \t9.16667\t0  \t46    \t1.1645  \t1.14\t68 \t7  \t1  \t46    \t0.774855\n",
      "69 \t65    \t0.363935\t69 \t16     \t0  \t65    \t1.73851 \t1.14\t69 \t6  \t1  \t65    \t0.648383\n",
      "70 \t62    \t0.210868\t70 \t17.5868\t0  \t62    \t1.75907 \t1.07\t70 \t6  \t1  \t62    \t0.533948\n",
      "71 \t44    \t0.267404\t71 \t6.51675\t0  \t44    \t1.01574 \t1.13\t71 \t7  \t1  \t44    \t0.673127\n",
      "72 \t58    \t0.161379\t72 \t8.33333\t0  \t58    \t0.9082  \t1.15\t72 \t7  \t1  \t58    \t0.804674\n",
      "73 \t57    \t0.166796\t73 \t7.51298\t0  \t57    \t0.932866\t1.05\t73 \t3  \t1  \t57    \t0.295804\n",
      "74 \t60    \t1.2377  \t74 \t68.8362\t0  \t60    \t7.00645 \t1.44\t74 \t6  \t1  \t60    \t1.16034 \n",
      "75 \t64    \t0.398093\t75 \t8.33333\t0  \t64    \t1.46856 \t1.22\t75 \t6  \t1  \t64    \t0.911921\n",
      "76 \t37    \t0.432391\t76 \t16     \t0  \t37    \t2.07895 \t1.11\t76 \t6  \t1  \t37    \t0.563826\n",
      "77 \t49    \t0.727154\t77 \t23     \t0  \t49    \t3.26012 \t1.21\t77 \t6  \t1  \t49    \t0.828191\n",
      "78 \t57    \t0.437729\t78 \t9.16667\t0  \t57    \t1.58506 \t1.27\t78 \t6  \t1  \t57    \t0.988484\n",
      "79 \t60    \t0.468762\t79 \t16     \t0  \t60    \t1.8936  \t1.22\t79 \t6  \t1  \t60    \t0.819512\n",
      "80 \t57    \t0.381654\t80 \t11.3009\t0  \t57    \t1.55162 \t1.24\t80 \t7  \t1  \t57    \t0.895768\n"
     ]
    },
    {
     "data": {
      "text/plain": [
       "([{'gen': 0, 'nevals': 100},\n",
       "  {'gen': 1, 'nevals': 67},\n",
       "  {'gen': 2, 'nevals': 49},\n",
       "  {'gen': 3, 'nevals': 57},\n",
       "  {'gen': 4, 'nevals': 55},\n",
       "  {'gen': 5, 'nevals': 50},\n",
       "  {'gen': 6, 'nevals': 47},\n",
       "  {'gen': 7, 'nevals': 61},\n",
       "  {'gen': 8, 'nevals': 59},\n",
       "  {'gen': 9, 'nevals': 40},\n",
       "  {'gen': 10, 'nevals': 55},\n",
       "  {'gen': 11, 'nevals': 58},\n",
       "  {'gen': 12, 'nevals': 56},\n",
       "  {'gen': 13, 'nevals': 58},\n",
       "  {'gen': 14, 'nevals': 57},\n",
       "  {'gen': 15, 'nevals': 57},\n",
       "  {'gen': 16, 'nevals': 66},\n",
       "  {'gen': 17, 'nevals': 58},\n",
       "  {'gen': 18, 'nevals': 60},\n",
       "  {'gen': 19, 'nevals': 48},\n",
       "  {'gen': 20, 'nevals': 61},\n",
       "  {'gen': 21, 'nevals': 58},\n",
       "  {'gen': 22, 'nevals': 50},\n",
       "  {'gen': 23, 'nevals': 58},\n",
       "  {'gen': 24, 'nevals': 52},\n",
       "  {'gen': 25, 'nevals': 51},\n",
       "  {'gen': 26, 'nevals': 51},\n",
       "  {'gen': 27, 'nevals': 52},\n",
       "  {'gen': 28, 'nevals': 46},\n",
       "  {'gen': 29, 'nevals': 58},\n",
       "  {'gen': 30, 'nevals': 53},\n",
       "  {'gen': 31, 'nevals': 56},\n",
       "  {'gen': 32, 'nevals': 58},\n",
       "  {'gen': 33, 'nevals': 64},\n",
       "  {'gen': 34, 'nevals': 64},\n",
       "  {'gen': 35, 'nevals': 57},\n",
       "  {'gen': 36, 'nevals': 47},\n",
       "  {'gen': 37, 'nevals': 53},\n",
       "  {'gen': 38, 'nevals': 56},\n",
       "  {'gen': 39, 'nevals': 47},\n",
       "  {'gen': 40, 'nevals': 61},\n",
       "  {'gen': 41, 'nevals': 64},\n",
       "  {'gen': 42, 'nevals': 61},\n",
       "  {'gen': 43, 'nevals': 59},\n",
       "  {'gen': 44, 'nevals': 59},\n",
       "  {'gen': 45, 'nevals': 62},\n",
       "  {'gen': 46, 'nevals': 52},\n",
       "  {'gen': 47, 'nevals': 48},\n",
       "  {'gen': 48, 'nevals': 54},\n",
       "  {'gen': 49, 'nevals': 68},\n",
       "  {'gen': 50, 'nevals': 55},\n",
       "  {'gen': 51, 'nevals': 61},\n",
       "  {'gen': 52, 'nevals': 67},\n",
       "  {'gen': 53, 'nevals': 62},\n",
       "  {'gen': 54, 'nevals': 40},\n",
       "  {'gen': 55, 'nevals': 53},\n",
       "  {'gen': 56, 'nevals': 45},\n",
       "  {'gen': 57, 'nevals': 46},\n",
       "  {'gen': 58, 'nevals': 61},\n",
       "  {'gen': 59, 'nevals': 56},\n",
       "  {'gen': 60, 'nevals': 46},\n",
       "  {'gen': 61, 'nevals': 61},\n",
       "  {'gen': 62, 'nevals': 61},\n",
       "  {'gen': 63, 'nevals': 54},\n",
       "  {'gen': 64, 'nevals': 49},\n",
       "  {'gen': 65, 'nevals': 61},\n",
       "  {'gen': 66, 'nevals': 66},\n",
       "  {'gen': 67, 'nevals': 51},\n",
       "  {'gen': 68, 'nevals': 46},\n",
       "  {'gen': 69, 'nevals': 65},\n",
       "  {'gen': 70, 'nevals': 62},\n",
       "  {'gen': 71, 'nevals': 44},\n",
       "  {'gen': 72, 'nevals': 58},\n",
       "  {'gen': 73, 'nevals': 57},\n",
       "  {'gen': 74, 'nevals': 60},\n",
       "  {'gen': 75, 'nevals': 64},\n",
       "  {'gen': 76, 'nevals': 37},\n",
       "  {'gen': 77, 'nevals': 49},\n",
       "  {'gen': 78, 'nevals': 57},\n",
       "  {'gen': 79, 'nevals': 60},\n",
       "  {'gen': 80, 'nevals': 57}],\n",
       " <deap.tools.support.HallOfFame at 0x7fb0881873d0>)"
      ]
     },
     "execution_count": 17,
     "metadata": {},
     "output_type": "execute_result"
    }
   ],
   "source": [
    "main(toolbox)"
   ]
  },
  {
   "cell_type": "code",
   "execution_count": null,
   "metadata": {},
   "outputs": [],
   "source": []
  }
 ],
 "metadata": {
  "colab": {
   "name": "TP5.ipynb",
   "provenance": []
  },
  "kernelspec": {
   "display_name": "Python 3",
   "language": "python",
   "name": "python3"
  },
  "language_info": {
   "codemirror_mode": {
    "name": "ipython",
    "version": 3
   },
   "file_extension": ".py",
   "mimetype": "text/x-python",
   "name": "python",
   "nbconvert_exporter": "python",
   "pygments_lexer": "ipython3",
   "version": "3.8.5"
  }
 },
 "nbformat": 4,
 "nbformat_minor": 4
}

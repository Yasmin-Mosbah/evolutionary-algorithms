{
 "cells": [
  {
   "cell_type": "code",
   "execution_count": 1,
   "metadata": {},
   "outputs": [
    {
     "name": "stdout",
     "output_type": "stream",
     "text": [
      "Requirement already satisfied: deap in /home/deptinfo/.local/lib/python3.8/site-packages (1.3.1)\n",
      "Requirement already satisfied: numpy in /home/deptinfo/.local/lib/python3.8/site-packages (from deap) (1.19.2)\n"
     ]
    }
   ],
   "source": [
    "## Installation du FrameWork DEAP\n",
    "!pip3 install deap"
   ]
  },
  {
   "cell_type": "code",
   "execution_count": 2,
   "metadata": {},
   "outputs": [],
   "source": [
    "#Import d'outils pythons\n",
    "import random\n",
    "import operator\n",
    "import math\n",
    "import numpy\n",
    "\n",
    "##Import les outils deap\n",
    "from deap import base\n",
    "from deap import creator\n",
    "from deap import tools\n",
    "from deap import gp\n",
    "from deap import algorithms\n",
    "from math import sqrt"
   ]
  },
  {
   "cell_type": "code",
   "execution_count": 3,
   "metadata": {},
   "outputs": [],
   "source": [
    "#Création des individus\n",
    "creator.create(\"FitnessMax\", base.Fitness, weights=(1.0,))\n",
    "creator.create(\"Individual\", list, fitness=creator.FitnessMax)"
   ]
  },
  {
   "cell_type": "code",
   "execution_count": 4,
   "metadata": {},
   "outputs": [],
   "source": [
    "#Fct qui créer les individus avec des nb aléatoire\n",
    "#La somme de l'individu est égale a &\n",
    "def individu(arg):\n",
    "    ind = numpy.random.dirichlet(numpy.ones(8),size=1)[0]\n",
    "    return arg(ind)"
   ]
  },
  {
   "cell_type": "code",
   "execution_count": 5,
   "metadata": {},
   "outputs": [],
   "source": [
    "toolbox = base.Toolbox()\n",
    "toolbox.register(\"individual\", individu, creator.Individual)"
   ]
  },
  {
   "cell_type": "code",
   "execution_count": 6,
   "metadata": {},
   "outputs": [],
   "source": [
    "#Fct de fitness avec le rapport de Sharpe\n",
    "def fitSharpe(ind):\n",
    "    #Données du tableau (rendement et variance)\n",
    "    rend1 = [-0.02,-0.01,0.00,0.01,0.02,0.03,0.04,0.05]\n",
    "    var1 = [0,00.05,0.09,0.01,0.02,0.16,0.20,0.25]\n",
    "    \n",
    "    rend = 0\n",
    "    var = 0\n",
    "    for i in range(len(ind)):\n",
    "        rend = rend + ind[i]*rend1[i]\n",
    "        var = var + ind[i]*var1[i]\n",
    "    if var > 0 :\n",
    "        sharpe = rend/sqrt(var)\n",
    "    else :\n",
    "        sharpe = 0\n",
    "    return sharpe,\n"
   ]
  },
  {
   "cell_type": "code",
   "execution_count": 7,
   "metadata": {},
   "outputs": [],
   "source": [
    "#Création de la population\n",
    "toolbox.register(\"population\", tools.initRepeat, list, toolbox.individual)\n",
    "toolbox.register(\"mate\", tools.cxTwoPoint)\n",
    "toolbox.register(\"mutate\", tools.mutGaussian, mu=0, sigma=1, indpb=0.2)\n",
    "toolbox.register(\"select\", tools.selTournament, tournsize=3)\n",
    "toolbox.register(\"evaluate\", fitSharpe)"
   ]
  },
  {
   "cell_type": "code",
   "execution_count": 8,
   "metadata": {},
   "outputs": [],
   "source": [
    "##Création de la population initiale sans contraintes\n",
    "pop = toolbox.population(n=300)"
   ]
  },
  {
   "cell_type": "code",
   "execution_count": 9,
   "metadata": {},
   "outputs": [
    {
     "name": "stdout",
     "output_type": "stream",
     "text": [
      "meilleur individu :  [0.006012709438961231, 0.0425220407482908, 0.028790870767138186, 0.021714292919171332, 0.03787263600194607, 0.03838100971918717, 0.7206061086509926, 0.10410033175431266]\n",
      "fitness max :  (0.08347547084303458,)\n"
     ]
    }
   ],
   "source": [
    "#Evaluation de la population\n",
    "eval = []*len(pop)\n",
    "find_max = pop[0]\n",
    "\n",
    "for ind in pop:    \n",
    "    ind.fitness.values = fitSharpe(ind)\n",
    "    if(ind.fitness.values > find_max.fitness.values):\n",
    "        find_max = ind\n",
    "print(\"meilleur individu : \", str(find_max))\n",
    "print(\"fitness max : \", str(find_max.fitness.values))"
   ]
  },
  {
   "cell_type": "code",
   "execution_count": 10,
   "metadata": {},
   "outputs": [],
   "source": [
    "def evolution(pop):\n",
    "    NGEN = 100\n",
    "    CXPB = 0.5\n",
    "    MUTPB = 0.2\n",
    "    for g in range(NGEN):\n",
    "        # Select the next generation individuals\n",
    "        offspring = toolbox.select(pop, len(pop))\n",
    "        # Clone the selected individuals\n",
    "        offspring = list(map(toolbox.clone, offspring))\n",
    "\n",
    "        # Apply crossover on the offspring\n",
    "        for child1, child2 in zip(offspring[::2], offspring[1::2]):\n",
    "            if random.random() < CXPB:\n",
    "                toolbox.mate(child1, child2)\n",
    "                del child1.fitness.values\n",
    "                del child2.fitness.values\n",
    "\n",
    "        # Apply mutation on the offspring\n",
    "        for mutant in offspring:\n",
    "            if random.random() < MUTPB:\n",
    "                toolbox.mutate(mutant)\n",
    "                del mutant.fitness.values\n",
    "\n",
    "        # Evaluate the individuals with an invalid fitness\n",
    "        invalid_ind = [ind for ind in offspring if not ind.fitness.valid]\n",
    "        fitnesses = toolbox.map(toolbox.evaluate, invalid_ind)\n",
    "        for ind, fit in zip(invalid_ind, fitnesses):\n",
    "            ind.fitness.values = fit\n",
    "\n",
    "        # The population is entirely replaced by the offspring\n",
    "        pop[:] = offspring\n",
    "    return pop"
   ]
  },
  {
   "cell_type": "code",
   "execution_count": 11,
   "metadata": {},
   "outputs": [],
   "source": [
    "##nouvelle population après 100 généarations avec mutation et crossing over    \n",
    "pop = evolution(pop)"
   ]
  },
  {
   "cell_type": "code",
   "execution_count": 12,
   "metadata": {},
   "outputs": [],
   "source": [
    "#Evaluation de la nouvelle population\n",
    "for ind in pop:    \n",
    "    ind.fitness.values = fitSharpe(ind)"
   ]
  },
  {
   "cell_type": "code",
   "execution_count": 13,
   "metadata": {},
   "outputs": [],
   "source": [
    "##Ajout des contraintes de l'énoncé\n",
    "def cont(ind):   \n",
    "    bool = False  \n",
    "    if sum(ind[:3])>=0.1  and sum(ind[:3])>=0 :\n",
    "        if ind[2] <= 0.1 and ind[2] >= 0:\n",
    "            if sum(ind[3:5]) <= 0.2 and sum(ind[3:5])>=0 :\n",
    "                if sum(ind[5:]) <= 0.5 and sum(ind[5:])>= 0:\n",
    "                    bool = True\n",
    "                else :\n",
    "                    bool = False\n",
    "            else :\n",
    "                bool = False\n",
    "        else :\n",
    "            bool = False\n",
    "    else :\n",
    "        bool = False\n",
    "    return bool"
   ]
  },
  {
   "cell_type": "code",
   "execution_count": 14,
   "metadata": {},
   "outputs": [],
   "source": [
    "##Création de la population initiale sans contraintes\n",
    "pop = toolbox.population(n=300)"
   ]
  },
  {
   "cell_type": "code",
   "execution_count": 15,
   "metadata": {},
   "outputs": [
    {
     "name": "stdout",
     "output_type": "stream",
     "text": [
      "meilleur individu :  [0.016843194172026416, 0.0009912431585279479, 0.027595708477784968, 0.18828253380358403, 0.0032810807944024063, 0.03320272702720883, 0.03887285379263556, 0.6909306587738299]\n",
      "fitness max :  (0.08871174266447823,)\n"
     ]
    }
   ],
   "source": [
    "#Evaluation de la population\n",
    "eval = []*len(pop)\n",
    "find_max = pop[0]\n",
    "\n",
    "for ind in pop:    \n",
    "    ind.fitness.values = fitSharpe(ind)\n",
    "    if(ind.fitness.values > find_max.fitness.values):\n",
    "        find_max = ind\n",
    "print(\"meilleur individu : \", str(find_max))\n",
    "print(\"fitness max : \", str(find_max.fitness.values))"
   ]
  },
  {
   "cell_type": "code",
   "execution_count": 16,
   "metadata": {},
   "outputs": [],
   "source": [
    "##Ajout de la contrainte\n",
    "toolbox.decorate(\"evaluate\",tools.DeltaPenalty(cont,ind))"
   ]
  },
  {
   "cell_type": "code",
   "execution_count": 17,
   "metadata": {},
   "outputs": [],
   "source": [
    "##nouvelle population après 100 généarations avec mutation et crossing over    \n",
    "pop = evolution(pop)"
   ]
  },
  {
   "cell_type": "code",
   "execution_count": 18,
   "metadata": {},
   "outputs": [],
   "source": [
    "#Evaluation de la nouvelle population\n",
    "for ind in pop:    \n",
    "    ind.fitness.values = fitSharpe(ind)"
   ]
  },
  {
   "cell_type": "markdown",
   "metadata": {},
   "source": [
    "La fitness max n'a pas beaucoup changé entre les deux essaies (avec et sans contrainte)\n",
    "On constate simplement que nous gardons un ratio proche de 0.08"
   ]
  }
 ],
 "metadata": {
  "kernelspec": {
   "display_name": "Python 3",
   "language": "python",
   "name": "python3"
  },
  "language_info": {
   "codemirror_mode": {
    "name": "ipython",
    "version": 3
   },
   "file_extension": ".py",
   "mimetype": "text/x-python",
   "name": "python",
   "nbconvert_exporter": "python",
   "pygments_lexer": "ipython3",
   "version": "3.8.5"
  }
 },
 "nbformat": 4,
 "nbformat_minor": 4
}
